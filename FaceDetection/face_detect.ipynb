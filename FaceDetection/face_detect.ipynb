{
 "nbformat": 4,
 "nbformat_minor": 0,
 "metadata": {
  "colab": {
   "provenance": [],
   "authorship_tag": "ABX9TyPRXaU05qlbjKAA6eZ7os9r",
   "include_colab_link": true
  },
  "kernelspec": {
   "name": "python3",
   "display_name": "Python 3"
  }
 },
 "cells": [
  {
   "cell_type": "code",
   "metadata": {
    "id": "vxUVQNgRnJSh",
    "pycharm": {
     "name": "#%%\n"
    }
   },
   "source": [
    "import cv2 as cv"
   ],
   "execution_count": null,
   "outputs": []
  },
  {
   "cell_type": "code",
   "execution_count": null,
   "outputs": [],
   "source": [
    "img = cv.imread('/Documents/CalculatorApp/selfiesite.png')\n",
    "cv2_imshow(img)"
   ],
   "metadata": {
    "collapsed": false,
    "pycharm": {
     "name": "#%%\n",
     "is_executing": true
    }
   }
  },
  {
   "cell_type": "code",
   "metadata": {
    "colab": {
     "base_uri": "https://localhost:8080/",
     "height": 317
    },
    "id": "T39kPQKyxBea",
    "outputId": "e1a4a223-7567-4e79-ed43-9a3ce4b42a9b",
    "pycharm": {
     "name": "#%%\n",
     "is_executing": true
    }
   },
   "source": [
    "gray = cv.cvtColor(img, cv.COLOR_BGR2GRAY)\n",
    "cv2_imshow(gray)"
   ],
   "execution_count": null,
   "outputs": []
  },
  {
   "cell_type": "code",
   "metadata": {
    "id": "-5tjRCDrxMKA",
    "pycharm": {
     "name": "#%%\n"
    }
   },
   "source": [
    "haar_cascade = cv.CascadeClassifier('haarcascade_face.xml')\n",
    "faces_rect = haar_cascade.detectMultiScale(gray, scaleFactor=1.1, minNeighbors=3)"
   ],
   "execution_count": null,
   "outputs": []
  },
  {
   "cell_type": "code",
   "metadata": {
    "colab": {
     "base_uri": "https://localhost:8080/"
    },
    "id": "VPGIKDp8xpBT",
    "outputId": "89fff274-cd08-4799-c2c8-78e78e58c960",
    "pycharm": {
     "name": "#%%\n"
    }
   },
   "source": [
    "print(f'Number of faces found = {len(faces_rect)}')"
   ],
   "execution_count": null,
   "outputs": [
    {
     "output_type": "stream",
     "text": [
      "Number of faces found = 1\n"
     ],
     "name": "stdout"
    }
   ]
  },
  {
   "cell_type": "code",
   "metadata": {
    "colab": {
     "base_uri": "https://localhost:8080/",
     "height": 317
    },
    "id": "OYIel20Lx7mH",
    "outputId": "aebfa1c1-6b57-4477-880b-5154ea282153",
    "pycharm": {
     "name": "#%%\n",
     "is_executing": true
    }
   },
   "source": [
    "for (x,y,w,h) in faces_rect:\n",
    "  cv.rectangle(img, (x,y), (x+w,y+h), (0,255,0), thickness=2)\n",
    "\n",
    "cv2_imshow(img)"
   ],
   "execution_count": null,
   "outputs": []
  },
  {
   "cell_type": "markdown",
   "metadata": {
    "id": "i-5OH0V423Mb",
    "pycharm": {
     "name": "#%% md\n"
    }
   },
   "source": [
    "#mutiple images"
   ]
  },
  {
   "cell_type": "code",
   "metadata": {
    "colab": {
     "base_uri": "https://localhost:8080/",
     "height": 1000
    },
    "id": "rQelj6Ka217I",
    "outputId": "a3777e15-58fa-4105-b53b-b4816ad597d9",
    "pycharm": {
     "name": "#%%\n",
     "is_executing": true
    }
   },
   "source": [
    "img1 = cv.imread('group.jpg')\n",
    "cv2_imshow(img1)"
   ],
   "execution_count": null,
   "outputs": []
  },
  {
   "cell_type": "code",
   "metadata": {
    "colab": {
     "base_uri": "https://localhost:8080/",
     "height": 1000
    },
    "id": "VseDEluo1_-D",
    "outputId": "406303ae-75c7-4607-ae02-3fc961eddf06",
    "pycharm": {
     "name": "#%%\n",
     "is_executing": true
    }
   },
   "source": [
    "faces_rect = haar_cascade.detectMultiScale(img1, scaleFactor=1.1, minNeighbors=3)\n",
    "print(f'Number of faces found = {len(faces_rect)}')\n",
    "for (x,y,w,h) in faces_rect:\n",
    "  cv.rectangle(img1, (x,y), (x+w,y+h), (0,255,0), thickness=2)\n",
    "\n",
    "cv2_imshow(img1)"
   ],
   "execution_count": null,
   "outputs": []
  },
  {
   "cell_type": "code",
   "metadata": {
    "colab": {
     "base_uri": "https://localhost:8080/",
     "height": 1000
    },
    "id": "2tZzfDS13kyB",
    "outputId": "58a4fad6-c73e-4ac9-c1d1-63059f064d0f",
    "pycharm": {
     "name": "#%%\n",
     "is_executing": true
    }
   },
   "source": [
    "faces_rect = haar_cascade.detectMultiScale(img1, scaleFactor=1.1, minNeighbors=2)\n",
    "print(f'Number of faces found = {len(faces_rect)}')\n",
    "for (x,y,w,h) in faces_rect:\n",
    "  cv.rectangle(img1, (x,y), (x+w,y+h), (0,255,0), thickness=2)\n",
    "\n",
    "cv2_imshow(img1)"
   ],
   "execution_count": null,
   "outputs": []
  }
 ]
}